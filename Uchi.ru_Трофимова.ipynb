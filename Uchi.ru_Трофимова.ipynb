{
 "cells": [
  {
   "cell_type": "markdown",
   "metadata": {},
   "source": [
    "# Тестовое задание Uchi.ru"
   ]
  },
  {
   "cell_type": "markdown",
   "metadata": {},
   "source": [
    "\n",
    "1. [Задание №1 Результаты A/B теста](#AB)\n",
    "    - [Подготовка данных](#start)\n",
    "    - [Сравнение конверсий](#CR)\n",
    "    - [Сравнение средних чеков](#rev)\n",
    "    - [Общий вывод](#end)\n",
    "\n",
    "\n",
    "2. [Задание №2 SQL](#SQL)\n",
    "    - [Задача 2.1](#2_1)\n",
    "    - [Задача 2.2](#2_2)\n",
    "\n",
    "\n",
    "3. [Задание №3 Python](#Python)\n"
   ]
  },
  {
   "cell_type": "markdown",
   "metadata": {},
   "source": [
    "____\n",
    "## Задание №1 <a id=\"AB\"></a>\n",
    "\n",
    "В ходе тестирования одной гипотезы была предложена **новая механика оплаты услуг** на сайте Uchi.ru, у контрольной группы оставалась базовая механика.\n",
    "\n",
    "**Задача:** проанализировать итоги эксперимента и сделать вывод, стоит ли запускать новую механику оплаты на всех пользователей.\n",
    "\n",
    "#### Исходные данные:\n",
    "* `groups` — информация о принадлежности пользователя к контрольной группе или экспериментальной группе (А-контроль, В-целевая группа)\n",
    "* `active_studs` — информация о пользователях, которые зашли на платформу в дни проведения эксперимента\n",
    "* `checks` — информация об оплатах пользователей в дни проведения эксперимента\n",
    "\n",
    "**Вопросы:**\n",
    "  * на какие метрики вы смотрите в ходе анализа и почему?\n",
    "  * имеются ли разлия в показателях и с чем они могут быть связаны?\n",
    "  * являются ли различия статистически значимыми?\n",
    "  * стоит ли запускать новую механику на всех пользователей?"
   ]
  },
  {
   "cell_type": "markdown",
   "metadata": {},
   "source": [
    "-------\n",
    "### 1. Подготовка данных <a id=\"start\"></a>\n",
    "\n",
    "\n",
    "Импотртируем необходимые библиотеки и таблицы."
   ]
  },
  {
   "cell_type": "code",
   "execution_count": 1,
   "metadata": {},
   "outputs": [],
   "source": [
    "# обработка данных\n",
    "import pandas as pd\n",
    "\n",
    "# проверка гипотез\n",
    "from scipy import stats as st\n",
    "import numpy as np\n",
    "import math as mth\n",
    "\n",
    "# построение графиков\n",
    "from matplotlib import pyplot as plt\n",
    "import pylab"
   ]
  },
  {
   "cell_type": "code",
   "execution_count": 2,
   "metadata": {},
   "outputs": [],
   "source": [
    "checks = pd.read_csv(r'C:\\Users\\Пользователь\\Documents\\my_docs\\uchi\\checks.csv', ';')\n",
    "active_studs = pd.read_csv(r'C:\\Users\\Пользователь\\Documents\\my_docs\\uchi\\active_studs.csv')\n",
    "groups = pd.read_csv(r'C:\\Users\\Пользователь\\Documents\\my_docs\\uchi\\groups.csv', ';')"
   ]
  },
  {
   "cell_type": "code",
   "execution_count": 3,
   "metadata": {
    "scrolled": true
   },
   "outputs": [
    {
     "name": "stdout",
     "output_type": "stream",
     "text": [
      "<class 'pandas.core.frame.DataFrame'>\n",
      "RangeIndex: 74576 entries, 0 to 74575\n",
      "Data columns (total 2 columns):\n",
      "id     74576 non-null int64\n",
      "grp    74576 non-null object\n",
      "dtypes: int64(1), object(1)\n",
      "memory usage: 1.1+ MB\n"
     ]
    }
   ],
   "source": [
    "# посмотрим на инфомрацию о таблицах\n",
    "groups.info()"
   ]
  },
  {
   "cell_type": "code",
   "execution_count": 4,
   "metadata": {},
   "outputs": [
    {
     "data": {
      "text/plain": [
       "2754561    1\n",
       "1517348    1\n",
       "104499     1\n",
       "315418     1\n",
       "4449747    1\n",
       "Name: id, dtype: int64"
      ]
     },
     "execution_count": 4,
     "metadata": {},
     "output_type": "execute_result"
    }
   ],
   "source": [
    "# проверим не попал ли один и тот же пользователь сразу в обе группы\n",
    "groups['id'].value_counts().sort_values(ascending=False).head(5)"
   ]
  },
  {
   "cell_type": "code",
   "execution_count": 5,
   "metadata": {
    "scrolled": true
   },
   "outputs": [
    {
     "name": "stdout",
     "output_type": "stream",
     "text": [
      "<class 'pandas.core.frame.DataFrame'>\n",
      "RangeIndex: 8341 entries, 0 to 8340\n",
      "Data columns (total 1 columns):\n",
      "student_id    8341 non-null int64\n",
      "dtypes: int64(1)\n",
      "memory usage: 65.2 KB\n"
     ]
    }
   ],
   "source": [
    "active_studs.info()"
   ]
  },
  {
   "cell_type": "code",
   "execution_count": 6,
   "metadata": {
    "scrolled": true
   },
   "outputs": [
    {
     "name": "stdout",
     "output_type": "stream",
     "text": [
      "<class 'pandas.core.frame.DataFrame'>\n",
      "RangeIndex: 541 entries, 0 to 540\n",
      "Data columns (total 2 columns):\n",
      "student_id    541 non-null int64\n",
      "rev           541 non-null float64\n",
      "dtypes: float64(1), int64(1)\n",
      "memory usage: 8.5 KB\n"
     ]
    }
   ],
   "source": [
    "checks.info()"
   ]
  },
  {
   "cell_type": "markdown",
   "metadata": {},
   "source": [
    "Пропусков в данных нет, типы присвоены корректно. Пользователи не дублируются в группах.\n",
    "\n",
    "Далее соберем все данные в одной таблице."
   ]
  },
  {
   "cell_type": "code",
   "execution_count": 7,
   "metadata": {
    "scrolled": true
   },
   "outputs": [],
   "source": [
    "# добавляем информацию о кол-ве активных пользователей\n",
    "active_studs = active_studs['student_id'].unique()\n",
    "groups['active_studs'] = groups['id'].apply(lambda x: 1 if x in active_studs else 0)"
   ]
  },
  {
   "cell_type": "code",
   "execution_count": 8,
   "metadata": {},
   "outputs": [],
   "source": [
    "# добавляем данные об оплатах\n",
    "groups = groups.merge(checks, left_on='id', right_on='student_id', how='outer')\n",
    "groups = groups.drop(columns=['student_id'])"
   ]
  },
  {
   "cell_type": "code",
   "execution_count": 9,
   "metadata": {
    "scrolled": true
   },
   "outputs": [
    {
     "data": {
      "text/html": [
       "<div>\n",
       "<style scoped>\n",
       "    .dataframe tbody tr th:only-of-type {\n",
       "        vertical-align: middle;\n",
       "    }\n",
       "\n",
       "    .dataframe tbody tr th {\n",
       "        vertical-align: top;\n",
       "    }\n",
       "\n",
       "    .dataframe thead th {\n",
       "        text-align: right;\n",
       "    }\n",
       "</style>\n",
       "<table border=\"1\" class=\"dataframe\">\n",
       "  <thead>\n",
       "    <tr style=\"text-align: right;\">\n",
       "      <th></th>\n",
       "      <th>id</th>\n",
       "      <th>grp</th>\n",
       "      <th>active_studs</th>\n",
       "      <th>rev</th>\n",
       "      <th>payed_studs</th>\n",
       "    </tr>\n",
       "  </thead>\n",
       "  <tbody>\n",
       "    <tr>\n",
       "      <th>0</th>\n",
       "      <td>1206794</td>\n",
       "      <td>B</td>\n",
       "      <td>0</td>\n",
       "      <td>0.0</td>\n",
       "      <td>0</td>\n",
       "    </tr>\n",
       "    <tr>\n",
       "      <th>1</th>\n",
       "      <td>331024</td>\n",
       "      <td>B</td>\n",
       "      <td>0</td>\n",
       "      <td>0.0</td>\n",
       "      <td>0</td>\n",
       "    </tr>\n",
       "    <tr>\n",
       "      <th>2</th>\n",
       "      <td>1733498</td>\n",
       "      <td>A</td>\n",
       "      <td>0</td>\n",
       "      <td>0.0</td>\n",
       "      <td>0</td>\n",
       "    </tr>\n",
       "    <tr>\n",
       "      <th>3</th>\n",
       "      <td>161574</td>\n",
       "      <td>B</td>\n",
       "      <td>0</td>\n",
       "      <td>0.0</td>\n",
       "      <td>0</td>\n",
       "    </tr>\n",
       "    <tr>\n",
       "      <th>4</th>\n",
       "      <td>168443</td>\n",
       "      <td>B</td>\n",
       "      <td>0</td>\n",
       "      <td>0.0</td>\n",
       "      <td>0</td>\n",
       "    </tr>\n",
       "  </tbody>\n",
       "</table>\n",
       "</div>"
      ],
      "text/plain": [
       "        id grp  active_studs  rev  payed_studs\n",
       "0  1206794   B             0  0.0            0\n",
       "1   331024   B             0  0.0            0\n",
       "2  1733498   A             0  0.0            0\n",
       "3   161574   B             0  0.0            0\n",
       "4   168443   B             0  0.0            0"
      ]
     },
     "execution_count": 9,
     "metadata": {},
     "output_type": "execute_result"
    }
   ],
   "source": [
    "# приводим данные к удобному рабочему виду\n",
    "groups['rev'] = groups['rev'].fillna(0)\n",
    "groups['payed_studs'] = groups['rev'].apply(lambda x: 1 if x != 0 else 0)\n",
    "groups.head()"
   ]
  },
  {
   "cell_type": "markdown",
   "metadata": {},
   "source": [
    "Теперь можем перейти к сравнению показателей и проверке гипотез."
   ]
  },
  {
   "cell_type": "markdown",
   "metadata": {},
   "source": [
    "\n",
    "### 2. Проверка гипотез"
   ]
  },
  {
   "cell_type": "markdown",
   "metadata": {},
   "source": [
    "Для оценки эффективности теста, будем использовать следующие показатели:\n",
    "    1. Конверсия в оплату (CR, CR_active)\n",
    "    2. Показатели выручки: средний чек и средний доход от каждого пользователя(ARPU, ARPAU)\n",
    "    \n",
    "Внедрение новой механики оплаты вряд ли направлено на изменение количества активных пользователей, поэтому данный показатель в расчет брать не будем.\n",
    "\n",
    "Рассчитаем необходимые показатели."
   ]
  },
  {
   "cell_type": "code",
   "execution_count": 10,
   "metadata": {
    "scrolled": false
   },
   "outputs": [
    {
     "data": {
      "text/html": [
       "<div>\n",
       "<style scoped>\n",
       "    .dataframe tbody tr th:only-of-type {\n",
       "        vertical-align: middle;\n",
       "    }\n",
       "\n",
       "    .dataframe tbody tr th {\n",
       "        vertical-align: top;\n",
       "    }\n",
       "\n",
       "    .dataframe thead th {\n",
       "        text-align: right;\n",
       "    }\n",
       "</style>\n",
       "<table border=\"1\" class=\"dataframe\">\n",
       "  <thead>\n",
       "    <tr style=\"text-align: right;\">\n",
       "      <th></th>\n",
       "      <th>cnt_studs</th>\n",
       "      <th>active_studs</th>\n",
       "      <th>payed_studs</th>\n",
       "      <th>rev</th>\n",
       "      <th>active_part</th>\n",
       "      <th>СR_active</th>\n",
       "      <th>СR</th>\n",
       "      <th>check</th>\n",
       "      <th>ARPAU</th>\n",
       "      <th>ARPU</th>\n",
       "    </tr>\n",
       "  </thead>\n",
       "  <tbody>\n",
       "    <tr>\n",
       "      <th>A</th>\n",
       "      <td>14693.0</td>\n",
       "      <td>1538.0</td>\n",
       "      <td>107.0</td>\n",
       "      <td>92096.0000</td>\n",
       "      <td>0.104676</td>\n",
       "      <td>0.069571</td>\n",
       "      <td>0.007282</td>\n",
       "      <td>860.710280</td>\n",
       "      <td>59.880364</td>\n",
       "      <td>6.268019</td>\n",
       "    </tr>\n",
       "    <tr>\n",
       "      <th>B</th>\n",
       "      <td>59883.0</td>\n",
       "      <td>6803.0</td>\n",
       "      <td>434.0</td>\n",
       "      <td>481230.0036</td>\n",
       "      <td>0.113605</td>\n",
       "      <td>0.063795</td>\n",
       "      <td>0.007247</td>\n",
       "      <td>1108.824893</td>\n",
       "      <td>70.737910</td>\n",
       "      <td>8.036171</td>\n",
       "    </tr>\n",
       "    <tr>\n",
       "      <th>A+B</th>\n",
       "      <td>74576.0</td>\n",
       "      <td>8341.0</td>\n",
       "      <td>541.0</td>\n",
       "      <td>573326.0036</td>\n",
       "      <td>0.111846</td>\n",
       "      <td>0.064860</td>\n",
       "      <td>0.007254</td>\n",
       "      <td>1059.752317</td>\n",
       "      <td>68.735883</td>\n",
       "      <td>7.687808</td>\n",
       "    </tr>\n",
       "  </tbody>\n",
       "</table>\n",
       "</div>"
      ],
      "text/plain": [
       "     cnt_studs  active_studs  payed_studs          rev  active_part  \\\n",
       "A      14693.0        1538.0        107.0   92096.0000     0.104676   \n",
       "B      59883.0        6803.0        434.0  481230.0036     0.113605   \n",
       "A+B    74576.0        8341.0        541.0  573326.0036     0.111846   \n",
       "\n",
       "     СR_active        СR        check      ARPAU      ARPU  \n",
       "A     0.069571  0.007282   860.710280  59.880364  6.268019  \n",
       "B     0.063795  0.007247  1108.824893  70.737910  8.036171  \n",
       "A+B   0.064860  0.007254  1059.752317  68.735883  7.687808  "
      ]
     },
     "execution_count": 10,
     "metadata": {},
     "output_type": "execute_result"
    }
   ],
   "source": [
    "# группируем данные по группам\n",
    "t = groups.groupby('grp').agg({'id':'count','active_studs':'sum', 'payed_studs':'sum', 'rev':'sum'})\n",
    "t = t.rename(columns = {'id':'cnt_studs'})\n",
    "\n",
    "# добавляем данные по объединенной группе\n",
    "new_row = t.loc['A'] + t.loc['B']\n",
    "new_row.name = 'A+B'\n",
    "t = t.append([new_row])\n",
    "\n",
    "# добавляем дополнительные расчетные столбцы\n",
    "t['active_part'] = (t['active_studs']/t['cnt_studs']) # доля активных пользователей\n",
    "t['СR_active'] = (t['payed_studs']/t['active_studs']) # конверсия в оплату из активных пользователей\n",
    "t['СR'] = (t['payed_studs']/t['cnt_studs']) # конверсия в оплату\n",
    "t['check'] = (t['rev']/t['payed_studs']) # средний чек\n",
    "t['ARPAU'] = (t['rev']/t['active_studs']) # средний доход от каждого активного пользователя\n",
    "t['ARPU'] = (t['rev']/t['cnt_studs']) # средний доход от каждого пользователя\n",
    "\n",
    "t"
   ]
  },
  {
   "cell_type": "markdown",
   "metadata": {},
   "source": [
    "### 2.1 Сравнение конверсий <a id=\"CR\"></a>\n",
    "Сравним контрольную и тестовую группу через гипотезу о равенстве долей с помощью z-критерия.\n",
    "\n",
    "* Нулевая гипотеза: конверсии равны между собой\n",
    "* Альтернатива: конверсии отличаются"
   ]
  },
  {
   "cell_type": "code",
   "execution_count": 11,
   "metadata": {},
   "outputs": [],
   "source": [
    "def statt(col1, col2):\n",
    "\n",
    "        alpha = .05 # критический уровень статистической значимости\n",
    "        \n",
    "        q1 = t.query('index == \"A\"')\n",
    "        q2 = t.query('index == \"B\"')\n",
    "        q3 = t.query('index == \"A+B\"')\n",
    "    \n",
    "        p1 = q1[col1].sum()/q1[col2].sum()\n",
    "        p2 = q2[col1].sum()/q2[col2].sum()\n",
    "        p_combined = q3[col1].sum()/q3[col2].sum()\n",
    "        difference = p1 - p2\n",
    "\n",
    "        z_value = difference/mth.sqrt(p_combined*(1-p_combined)*(1/q1[col2].sum()+1/q2[col2].sum()))\n",
    "\n",
    "        distr = st.norm(0,1)\n",
    "\n",
    "        p_value = (1 - distr.cdf(abs(z_value)))*2\n",
    "    \n",
    "        print('p-значение: {:.4f}'.format(p_value))\n",
    "\n",
    "        if (p_value < alpha):\n",
    "            print(\"Отвергаем нулевую гипотезу: между долями есть значимая разница\")\n",
    "        else:\n",
    "            print(\"Не получилось отвергнуть нулевую гипотезу, нет оснований считать конверсии разными\")"
   ]
  },
  {
   "cell_type": "code",
   "execution_count": 12,
   "metadata": {},
   "outputs": [
    {
     "name": "stdout",
     "output_type": "stream",
     "text": [
      "p-значение: 0.9644\n",
      "Не получилось отвергнуть нулевую гипотезу, нет оснований считать конверсии разными\n"
     ]
    }
   ],
   "source": [
    "statt('payed_studs', 'cnt_studs')"
   ]
  },
  {
   "cell_type": "code",
   "execution_count": 13,
   "metadata": {
    "scrolled": false
   },
   "outputs": [
    {
     "name": "stdout",
     "output_type": "stream",
     "text": [
      "p-значение: 0.4062\n",
      "Не получилось отвергнуть нулевую гипотезу, нет оснований считать конверсии разными\n"
     ]
    }
   ],
   "source": [
    "statt('payed_studs', 'active_studs')"
   ]
  },
  {
   "cell_type": "markdown",
   "metadata": {},
   "source": [
    "По результатам теста с 5% точностью, статистически значимых различий в конверсиях не обнаружено."
   ]
  },
  {
   "cell_type": "markdown",
   "metadata": {},
   "source": [
    "### 2.2. Сравнение средних чеков <a id=\"rev\"></a>"
   ]
  },
  {
   "cell_type": "markdown",
   "metadata": {},
   "source": [
    "Для проверки различий в среднем чеке сначала необходимо проверить нормальность распределения. Для этого построим QQ график."
   ]
  },
  {
   "cell_type": "code",
   "execution_count": 14,
   "metadata": {},
   "outputs": [
    {
     "data": {
      "image/png": "[encoded data removed]",
      "text/plain": [
       "<Figure size 1080x360 with 2 Axes>"
      ]
     },
     "metadata": {
      "needs_background": "light"
     },
     "output_type": "display_data"
    }
   ],
   "source": [
    "pylab.figure(figsize=(15,5))\n",
    "pylab.subplot(1,2,1)\n",
    "st.probplot(groups.query('payed_studs != 0 & grp == \"A\"')['rev'], dist='norm', plot=pylab)\n",
    "\n",
    "pylab.subplot(1,2,2)\n",
    "st.probplot(groups.query('payed_studs != 0 & grp == \"B\"')['rev'], dist='norm', plot=pylab)\n",
    "pylab.show()"
   ]
  },
  {
   "cell_type": "markdown",
   "metadata": {},
   "source": [
    "По графикам видно, что распределения похожи на нормальные, но есть точки, которые лежат довольно далеко от прямой. Поэтому сделаем дополнительную проверку, используя **критерий Шапиро-Уилка**.\n",
    "\n",
    "**Сформулируем нулевую и альтернативную гипотезы:**\n",
    "- Нулевая гипотеза: распределение нормальное\n",
    "- Альтернатива: распределение отличное от нормального"
   ]
  },
  {
   "cell_type": "code",
   "execution_count": 15,
   "metadata": {},
   "outputs": [
    {
     "name": "stdout",
     "output_type": "stream",
     "text": [
      "p-значение: 0.0000000000000000000038619\n",
      "Отвергаем нулевую гипотезу: распределение отличное от нормального\n"
     ]
    }
   ],
   "source": [
    "alpha = .05 # уровень статистической значимости\n",
    "\n",
    "results = st.shapiro(groups.query('payed_studs != 0')['rev'])\n",
    "p_value = results[1]\n",
    "\n",
    "print('p-значение: {:.25f}'.format(p_value))\n",
    "\n",
    "if (p_value < alpha):\n",
    "    print(\"Отвергаем нулевую гипотезу: распределение отличное от нормального\")\n",
    "else:\n",
    "    print(\"Не получилось отвергнуть нулевую гипотезу, распределение нормальное\")"
   ]
  },
  {
   "cell_type": "markdown",
   "metadata": {},
   "source": [
    "По результатам теста распределение получилось отличным от нормального, поэтому для проверки сравнения средних чеков двух выборок, будем использовать непараметрический **тест Манна-Уитни**.\n",
    "\n",
    "* Нулевая гипотеза: чеки равны между собой\n",
    "* Альтернатива: чеки отличаются"
   ]
  },
  {
   "cell_type": "code",
   "execution_count": 16,
   "metadata": {
    "scrolled": true
   },
   "outputs": [
    {
     "name": "stdout",
     "output_type": "stream",
     "text": [
      "p-значение: 0.0001\n",
      "Отвергаем нулевую гипотезу: между чеками есть значимая разница\n"
     ]
    }
   ],
   "source": [
    "alpha = .05 # уровень статистической значимости\n",
    "\n",
    "A = groups.query('grp == \"A\" & rev != 0')['rev']\n",
    "B = groups.query('grp == \"B\" & rev != 0')['rev']\n",
    "\n",
    "results = st.mannwhitneyu(A,B)\n",
    "p_value = results[1]\n",
    "\n",
    "print('p-значение: {:.4f}'.format(p_value))\n",
    "\n",
    "if (p_value < alpha):\n",
    "    print(\"Отвергаем нулевую гипотезу: между чеками есть значимая разница\")\n",
    "else:\n",
    "    print(\"Не получилось отвергнуть нулевую гипотезу, нет оснований считать чеки разными\")\n"
   ]
  },
  {
   "cell_type": "code",
   "execution_count": 17,
   "metadata": {
    "scrolled": true
   },
   "outputs": [
    {
     "name": "stdout",
     "output_type": "stream",
     "text": [
      "Средний чек группы B больше чека группы А на 22.38%\n"
     ]
    }
   ],
   "source": [
    "# Рассчитаем относительную разницу в чеке и выручке на пользователя\n",
    "print(\"Средний чек группы B больше чека группы А на {:.2%}\".format((B.mean()-A.mean())/B.mean()))\n"
   ]
  },
  {
   "cell_type": "markdown",
   "metadata": {},
   "source": [
    "### 3. Итоги А/B теста <a id=\"end\"></a>\n",
    "\n",
    "По итогам проверки результатов теста значимых различий в конверсиях двух групп не обнаружено.\n",
    "А вот изменения в среднем чеке оказались статистически значимыми, чек группы **Б** больше чека группы **А** на 22%. Также есть разница и в среднем доходе на пользователя.\n",
    "\n",
    "Для того, чтобы говорить о том, стоит ли запускать новую механику оплаты на всех пользователей, нужно понимать целевые показатели эксперимента. Если целевым показателем было изменение выручки на пользователя, то эксперимент можно считать успешным. \n",
    "Если тест был направлен на увеличение конверсии, то значимых изменений не обнаружено и нужно тестировать другую гипотезу."
   ]
  },
  {
   "cell_type": "markdown",
   "metadata": {},
   "source": [
    "------\n",
    "## Задание №2. SQL <a id=\"SQL\"></a>\n",
    "#### 2.1 Написать `оптимальный запрос`, который даст информаию о количестве очень усердных** студентов за март 2020 года. <a id=\"2_1\"></a>\n",
    "\n",
    "***хотя бы раз за указанный месяц правильно решил 20 горошин за час*\n",
    "\n",
    "Таблица **peas**:\n",
    "\n",
    "<table>\n",
    "\n",
    "<td><b>Название атрибута</b></td>\n",
    "<td><b>Тип атрибута</b></td>\n",
    "<td><b>Смысловое значение</b></td>\n",
    "<tr>\n",
    "\n",
    "<td> st_id </td>\n",
    "<td> int </td>\n",
    "<td> ID ученика </td>\n",
    "<tr>\n",
    "    \n",
    "<td> timest </td>\n",
    "<td> timestamp </td>\n",
    "<td> Время решения карточки </td>\n",
    "<tr>\n",
    "    \n",
    "<td> correct </td>\n",
    "<td> bool </td>\n",
    "<td> Правильно ли решена горошина? </td>\n",
    "<tr>\n",
    "    \n",
    "<td> subject </td>\n",
    "<td> text </td>\n",
    "<td> Дисциплина, в которой находится горошина </td>\n",
    "<tr>\n",
    "    \n"
   ]
  },
  {
   "cell_type": "raw",
   "metadata": {},
   "source": [
    "WITH hard_studs AS\n",
    "(\n",
    "SELECT st_id, DATEADD(hour, DATEDIFF(hour, 0, timest), 0) as dt --обрезаем дату до часа\n",
    "FROM peas\n",
    "WHERE timest BETWEEN '2020-03-01' AND '2020-04-01'\n",
    "GROUP BY st_id, DATEADD(hour, DATEDIFF(hour, 0, timest), 0)\n",
    "HAVING SUM(CASE WHEN correct THEN 1 ELSE 0 END) >= 20\n",
    ")\n",
    "\n",
    "SELECT COUNT(DISTINCT st_id)\n",
    "FROM hard_studs"
   ]
  },
  {
   "cell_type": "markdown",
   "metadata": {},
   "source": [
    "#### 2.2 В одном запросе выгрузить следующую информацию о группах пользователей: <a id=\"2_2\"></a>\n",
    "\n",
    "* `ARPU`\n",
    "* `ARPAU`\n",
    "* `CR` в покупку\n",
    "* `CR` активного пользователя в покупку\n",
    "* `CR` пользователя из активности по математике (subject = 'math') в покупку курса по математике\n",
    "\n",
    "Таблица **studs**:\n",
    "<table>\n",
    "\n",
    "<td><b>Название атрибута</b></td>\n",
    "<td><b>Тип атрибута</b></td>\n",
    "<td><b>Смысловое значение</b></td>\n",
    "<tr>\n",
    "\n",
    "<td> st_id </td>\n",
    "<td> int </td>\n",
    "<td> ID ученика </td>\n",
    "<tr>\n",
    "    \n",
    "<td> test_grp </td>\n",
    "<td> text </td>\n",
    "<td> Метка ученика в данном эксперименте </td>\n",
    "<tr>\n",
    "    \n",
    "</table>\n",
    "<br/><br/>\n",
    "\n",
    "Таблица **checks**:\n",
    "<table>\n",
    "\n",
    "<td><b>Название атрибута</b></td>\n",
    "<td><b>Тип атрибута</b></td>\n",
    "<td><b>Смысловое значение</b></td>\n",
    "<tr>\n",
    "\n",
    "<td> st_id </td>\n",
    "<td> int </td>\n",
    "<td> ID ученика </td>\n",
    "<tr>\n",
    "    \n",
    "<td> sale_time </td>\n",
    "<td> timestamp </td>\n",
    "<td> Время покупки </td>\n",
    "<tr>\n",
    "    \n",
    "<td> subject </td>\n",
    "<td> text </td>\n",
    "<td> Дисциплина, на которую приобрели полный курс </td>\n",
    "<tr>\n",
    "\n",
    "<td> money </td>\n",
    "<td> int </td>\n",
    "<td> Цена, по которой приобрели данный курс </td>\n",
    "<tr>\n",
    "    \n",
    "</table>\n",
    "<br/><br/>"
   ]
  },
  {
   "cell_type": "raw",
   "metadata": {},
   "source": [
    "WITH math_studs AS\n",
    "(\n",
    "SELECT DISTINCT p.st_id AS m_active, c.st_id AS m_payed\n",
    "FROM peas p LEFT JOIN checks c ON s.st_id = c.st_id\n",
    "AND p.subject = c.subject\n",
    "WHERE p.subject = 'math' AND (timest < sale_time OR sale_time IS NULL)\n",
    "),\n",
    "\n",
    "all_studs AS\n",
    "(\n",
    "SELECT \n",
    "\ts.test_grp\n",
    "\ts.st_id, \n",
    "\tp.st_id as active_st, \n",
    "\tc.st_id as payed_st,\n",
    "\tm_active,\n",
    "\tm_payed,\n",
    "\tc.money\n",
    "FROM studs s LEFT JOIN peas p ON s.st_id = p.st_id\n",
    "LEFT JOIN checks c ON s.st_id = c.st_id\n",
    "LEFT JOIN math_studs m ON s.st_id = m.m_active \n",
    ")\n",
    "\n",
    "SELECT\n",
    "\ttest_grp,\n",
    "\tSUM(money)/COUNT(st_id) AS ARPU,\n",
    "\tSUM(money)/COUNT(active_st) AS ARPAU,\n",
    "\tCOUNT(payed_st)/COUNT(st_id) AS CR,\n",
    "\tCOUNT(payed_st)/COUNT(active_st) AS CR_act,\n",
    "\tCOUNT(m_payed)/COUNT(m_active) AS CR_act_m\n",
    "FROM all_studs\n",
    "GROUP BY test_grp"
   ]
  },
  {
   "cell_type": "markdown",
   "metadata": {},
   "source": [
    "------\n",
    "## Задача №3 Python <a id=\"Python\"></a>\n",
    "\n",
    "1. Создать класс BaseGraph со следующими атрибутами:\n",
    "    * Источник данных (pandas.DataFrame или csv)\n",
    "    * Название графика\n",
    "    * Подписи осей\n",
    "    * Другие параметры, которые, возможно, захочет увидеть пользователь\n",
    "2. Создать метод plot, который будет строить line graph.\n",
    "3. Создать BarGraph, который будет наследником BaseGraph. Переопределите метод plot, который будет адаптирован для построения bar chart.\n",
    "4. Проиллюстрируйте работу написанных классов на собственных примерах, проверив, что ваш класс корректно обрабатывает все краевые случаи."
   ]
  },
  {
   "cell_type": "code",
   "execution_count": 18,
   "metadata": {},
   "outputs": [],
   "source": [
    "class BaseGraph:\n",
    "    \"\"\"Создаем класс для создания графика\"\"\"\n",
    "    \n",
    "    def __init__(self, source, name, x, y):\n",
    "        \"\"\"Задаем атрибуты класса\"\"\"\n",
    "        self.source = source\n",
    "        self.name = name\n",
    "        self.x = x\n",
    "        self.y = y\n",
    " \n",
    "    def plot(self):\n",
    "        \"\"\"Пишем метод для построения графика\"\"\"\n",
    "        self.kind = 'line'\n",
    "        self.source.plot(kind=self.kind,\n",
    "                         x=self.x,\n",
    "                         y=self.y,\n",
    "                         title = self.name)\n",
    "\n",
    "class BarGraph(BaseGraph):\n",
    "    \"\"\"Задаем атрибуты класса\"\"\"\n",
    "    def __init__(self, source, name, x, y):\n",
    "        \"\"\"Передаем атрибуты из класса BaseGraph\"\"\"\n",
    "        super().__init__(source, name, x, y)\n",
    "    def plot(self):\n",
    "        \"\"\"Переопределяем метод plot\"\"\"\n",
    "        self.kind = 'bar'\n",
    "        self.source.plot(kind=self.kind,\n",
    "                         x=self.x,\n",
    "                         y=self.y,\n",
    "                         title = self.name)\n"
   ]
  },
  {
   "cell_type": "code",
   "execution_count": 19,
   "metadata": {},
   "outputs": [
    {
     "data": {
      "text/html": [
       "<div>\n",
       "<style scoped>\n",
       "    .dataframe tbody tr th:only-of-type {\n",
       "        vertical-align: middle;\n",
       "    }\n",
       "\n",
       "    .dataframe tbody tr th {\n",
       "        vertical-align: top;\n",
       "    }\n",
       "\n",
       "    .dataframe thead th {\n",
       "        text-align: right;\n",
       "    }\n",
       "</style>\n",
       "<table border=\"1\" class=\"dataframe\">\n",
       "  <thead>\n",
       "    <tr style=\"text-align: right;\">\n",
       "      <th></th>\n",
       "      <th>col1</th>\n",
       "      <th>col2</th>\n",
       "    </tr>\n",
       "  </thead>\n",
       "  <tbody>\n",
       "    <tr>\n",
       "      <th>0</th>\n",
       "      <td>0</td>\n",
       "      <td>2.660971</td>\n",
       "    </tr>\n",
       "    <tr>\n",
       "      <th>1</th>\n",
       "      <td>1</td>\n",
       "      <td>3.339880</td>\n",
       "    </tr>\n",
       "    <tr>\n",
       "      <th>2</th>\n",
       "      <td>2</td>\n",
       "      <td>2.436760</td>\n",
       "    </tr>\n",
       "    <tr>\n",
       "      <th>3</th>\n",
       "      <td>3</td>\n",
       "      <td>3.779730</td>\n",
       "    </tr>\n",
       "    <tr>\n",
       "      <th>4</th>\n",
       "      <td>4</td>\n",
       "      <td>1.790861</td>\n",
       "    </tr>\n",
       "    <tr>\n",
       "      <th>5</th>\n",
       "      <td>5</td>\n",
       "      <td>2.404358</td>\n",
       "    </tr>\n",
       "    <tr>\n",
       "      <th>6</th>\n",
       "      <td>6</td>\n",
       "      <td>3.055825</td>\n",
       "    </tr>\n",
       "    <tr>\n",
       "      <th>7</th>\n",
       "      <td>7</td>\n",
       "      <td>1.713271</td>\n",
       "    </tr>\n",
       "    <tr>\n",
       "      <th>8</th>\n",
       "      <td>8</td>\n",
       "      <td>2.705121</td>\n",
       "    </tr>\n",
       "    <tr>\n",
       "      <th>9</th>\n",
       "      <td>9</td>\n",
       "      <td>4.000535</td>\n",
       "    </tr>\n",
       "  </tbody>\n",
       "</table>\n",
       "</div>"
      ],
      "text/plain": [
       "   col1      col2\n",
       "0     0  2.660971\n",
       "1     1  3.339880\n",
       "2     2  2.436760\n",
       "3     3  3.779730\n",
       "4     4  1.790861\n",
       "5     5  2.404358\n",
       "6     6  3.055825\n",
       "7     7  1.713271\n",
       "8     8  2.705121\n",
       "9     9  4.000535"
      ]
     },
     "execution_count": 19,
     "metadata": {},
     "output_type": "execute_result"
    }
   ],
   "source": [
    "# создадим таблицу с данными для проверки классов\n",
    "d = {'col1': np.arange(0,10),'col2': np.random.normal(loc=3, scale=0.7, size=10)}\n",
    "df = pd.DataFrame(data=d)\n",
    "df"
   ]
  },
  {
   "cell_type": "code",
   "execution_count": 20,
   "metadata": {},
   "outputs": [
    {
     "data": {
      "image/png": "[encoded data removed]",
      "text/plain": [
       "<Figure size 432x288 with 1 Axes>"
      ]
     },
     "metadata": {
      "needs_background": "light"
     },
     "output_type": "display_data"
    },
    {
     "data": {
      "image/png": "[encoded data removed]",
      "text/plain": [
       "<Figure size 432x288 with 1 Axes>"
      ]
     },
     "metadata": {
      "needs_background": "light"
     },
     "output_type": "display_data"
    }
   ],
   "source": [
    "base_graph = BaseGraph(df, 'Iine plot', 'col1', 'col2')\n",
    "base_graph.plot()\n",
    "\n",
    "bar_graph = BarGraph(df, 'Bar plot', 'col1', 'col2')\n",
    "bar_graph.plot()"
   ]
  }
 ],
 "metadata": {
  "kernelspec": {
   "display_name": "Python 3",
   "language": "python",
   "name": "python3"
  },
  "language_info": {
   "codemirror_mode": {
    "name": "ipython",
    "version": 3
   },
   "file_extension": ".py",
   "mimetype": "text/x-python",
   "name": "python",
   "nbconvert_exporter": "python",
   "pygments_lexer": "ipython3",
   "version": "3.7.3"
  }
 },
 "nbformat": 4,
 "nbformat_minor": 2
}
